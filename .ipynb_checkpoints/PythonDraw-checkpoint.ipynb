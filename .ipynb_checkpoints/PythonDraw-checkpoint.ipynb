{
 "cells": [
  {
   "cell_type": "code",
   "execution_count": 20,
   "metadata": {
    "collapsed": false
   },
   "outputs": [],
   "source": [
    "import turtle as t\n",
    "t.setup()\n",
    "t.penup()\n",
    "t.fd(-250)\n",
    "t.pendown()\n",
    "t.pensize(25)\n",
    "t.pencolor(\"red\")\n",
    "t.seth(-35)\n",
    "for i in range(6):\n",
    "    t.circle(40,50)\n",
    "    t.circle(-40,70)\n",
    "t.circle(40,80/2)\n",
    "t.fd(40)\n",
    "t.circle(16,180)\n",
    "t.fd(40*2/3)\n",
    "t.done()"
   ]
  },
  {
   "cell_type": "code",
   "execution_count": 22,
   "metadata": {
    "collapsed": false
   },
   "outputs": [],
   "source": [
    "import turtle as t\n",
    "t.setup(650,650,100,100)\n",
    "t.penup()\n",
    "t.pendown()\n",
    "t.pensize(25)\n",
    "t.pencolor(\"black\")\n",
    "t.fd(200)\n",
    "t.left(90)\n",
    "t.fd(200)\n",
    "t.left(90)\n",
    "t.fd(200)\n",
    "t.left(90)\n",
    "t.fd(200)\n",
    "t.done()"
   ]
  },
  {
   "cell_type": "code",
   "execution_count": 24,
   "metadata": {
    "collapsed": false
   },
   "outputs": [],
   "source": [
    "import turtle as t\n",
    "t.setup()\n",
    "t.penup()\n",
    "t.pendown()\n",
    "t.pensize(25)\n",
    "t.pencolor(\"black\")\n",
    "t.fd(200)\n",
    "t.right(60)\n",
    "t.fd(200)\n",
    "t.right(60)\n",
    "t.fd(200)\n",
    "t.right(60)\n",
    "t.fd(200)\n",
    "t.right(60)\n",
    "t.fd(200)\n",
    "t.right(60)\n",
    "t.fd(200)\n",
    "t.right(60)\n",
    "t.done()"
   ]
  },
  {
   "cell_type": "code",
   "execution_count": 26,
   "metadata": {
    "collapsed": false
   },
   "outputs": [],
   "source": [
    "import turtle as t\n",
    "t.setup(960,960,500,500)\n",
    "t.penup()\n",
    "t.pendown()\n",
    "t.pensize(25)\n",
    "t.pencolor(\"black\")\n",
    "t.fd(200)\n",
    "t.left(80)\n",
    "t.fd(200)\n",
    "t.left(80)\n",
    "t.fd(200)\n",
    "t.left(80)\n",
    "t.fd(200)\n",
    "t.left(80)\n",
    "t.fd(200)\n",
    "t.left(80)\n",
    "t.fd(200)\n",
    "t.left(80)\n",
    "t.fd(200)\n",
    "t.left(80)\n",
    "t.fd(200)\n",
    "t.left(80)\n",
    "t.fd(200)\n",
    "t.left(80)\n",
    "t.fd(200)\n",
    "t.done()"
   ]
  },
  {
   "cell_type": "code",
   "execution_count": 30,
   "metadata": {
    "collapsed": false
   },
   "outputs": [],
   "source": [
    "import turtle as t\n",
    "t.setup(600,600,150,150)\n",
    "t.penup()\n",
    "t.pendown()\n",
    "t.pensize(5)\n",
    "t.pencolor(\"black\")\n",
    "t.circle(20)\n",
    "t.circle(30)\n",
    "t.circle(40)\n",
    "t.circle(50)\n",
    "t.done()"
   ]
  },
  {
   "cell_type": "code",
   "execution_count": null,
   "metadata": {
    "collapsed": true
   },
   "outputs": [],
   "source": []
  }
 ],
 "metadata": {
  "anaconda-cloud": {},
  "kernelspec": {
   "display_name": "Python [conda root]",
   "language": "python",
   "name": "conda-root-py"
  },
  "language_info": {
   "codemirror_mode": {
    "name": "ipython",
    "version": 3
   },
   "file_extension": ".py",
   "mimetype": "text/x-python",
   "name": "python",
   "nbconvert_exporter": "python",
   "pygments_lexer": "ipython3",
   "version": "3.5.2"
  }
 },
 "nbformat": 4,
 "nbformat_minor": 1
}
