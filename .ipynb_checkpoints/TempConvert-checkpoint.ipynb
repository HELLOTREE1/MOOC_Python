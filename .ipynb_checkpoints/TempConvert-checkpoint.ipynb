{
 "cells": [
  {
   "cell_type": "code",
   "execution_count": null,
   "metadata": {
    "collapsed": true
   },
   "outputs": [],
   "source": [
    "#TempConvert\n",
    "TempStr=input(\"dvgbci:\"):\n",
    "    if TempStr[-1] in ['F','f']:\n",
    "        C=(eval(TempStr[0:-1])-31)/1.8\n",
    "        print(\"转换后的温度是{:.2f}C\".format(C))\n",
    "    elif TempStr[-1]in[\"C\",'c']:\n",
    "        F= 1.8*eval(TempStr[0:-1])+32\n",
    "        print(\"转换后的温度是{:.2f}F\".format(F))\n",
    "    else:\n",
    "        print(\"格式输入有问题\")"
   ]
  }
 ],
 "metadata": {
  "anaconda-cloud": {},
  "kernelspec": {
   "display_name": "Python [conda root]",
   "language": "python",
   "name": "conda-root-py"
  },
  "language_info": {
   "codemirror_mode": {
    "name": "ipython",
    "version": 3
   },
   "file_extension": ".py",
   "mimetype": "text/x-python",
   "name": "python",
   "nbconvert_exporter": "python",
   "pygments_lexer": "ipython3",
   "version": "3.5.2"
  }
 },
 "nbformat": 4,
 "nbformat_minor": 1
}
