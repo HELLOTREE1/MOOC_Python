{
 "cells": [
  {
   "cell_type": "code",
   "execution_count": 7,
   "metadata": {
    "collapsed": false
   },
   "outputs": [
    {
     "name": "stdout",
     "output_type": "stream",
     "text": [
      "dvgbci:126.6878541c\n",
      "转换后的温度是260.04F\n"
     ]
    }
   ],
   "source": [
    "#TempConvert\n",
    "TempStr=input(\"dvgbci:\")\n",
    "if TempStr[-1] in ['F','f']:#列表信息\n",
    "        C=(eval(TempStr[0:-1])-31)/1.8#评估函数，去掉参数外侧引导并执行余下语句；将任何字符串str格式转化为python语句\n",
    "        print(\"转换后的温度是{:.2f}C\".format(C))#print的格式化\n",
    "elif TempStr[-1]in[\"C\",'c']:\n",
    "        F= 1.8*eval(TempStr[0:-1])+32\n",
    "        print(\"转换后的温度是{:.2f}F\".format(F))\n",
    "else:\n",
    "        print(\"格式输入有问题\")    "
   ]
  },
  {
   "cell_type": "code",
   "execution_count": null,
   "metadata": {
    "collapsed": true
   },
   "outputs": [],
   "source": []
  }
 ],
 "metadata": {
  "anaconda-cloud": {},
  "kernelspec": {
   "display_name": "Python [conda root]",
   "language": "python",
   "name": "conda-root-py"
  },
  "language_info": {
   "codemirror_mode": {
    "name": "ipython",
    "version": 3
   },
   "file_extension": ".py",
   "mimetype": "text/x-python",
   "name": "python",
   "nbconvert_exporter": "python",
   "pygments_lexer": "ipython3",
   "version": "3.5.2"
  }
 },
 "nbformat": 4,
 "nbformat_minor": 1
}
