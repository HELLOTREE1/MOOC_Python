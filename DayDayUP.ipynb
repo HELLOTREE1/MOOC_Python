{
 "cells": [
  {
   "cell_type": "code",
   "execution_count": 1,
   "metadata": {
    "collapsed": false
   },
   "outputs": [
    {
     "name": "stdout",
     "output_type": "stream",
     "text": [
      "up：1.44,down:0.69\n"
     ]
    }
   ],
   "source": [
    "#DayDayUpQ1\n",
    "dayup=pow(1.001,365)\n",
    "daydown=pow(0.999,365)\n",
    "print(\"up：{:.2f},down:{:.2f}\".format(dayup,daydown))"
   ]
  },
  {
   "cell_type": "code",
   "execution_count": 2,
   "metadata": {
    "collapsed": false
   },
   "outputs": [
    {
     "name": "stdout",
     "output_type": "stream",
     "text": [
      "up：6.17,down:0.16\n"
     ]
    }
   ],
   "source": [
    "#DayDayUpQ2\n",
    "factor=0.005\n",
    "dayup=pow(1+factor,365)\n",
    "daydown=pow(1-factor,365)\n",
    "print(\"up：{:.2f},down:{:.2f}\".format(dayup,daydown))"
   ]
  },
  {
   "cell_type": "code",
   "execution_count": 4,
   "metadata": {
    "collapsed": false
   },
   "outputs": [
    {
     "name": "stdout",
     "output_type": "stream",
     "text": [
      "weekdays：1.17\n"
     ]
    }
   ],
   "source": [
    "#DayDayUpQ3\n",
    "dayup=1.0\n",
    "factor=0.001\n",
    "for i in range(365):\n",
    "    if i % 7 in [6,0]:\n",
    "        dayup=dayup*(1-factor)\n",
    "    else:\n",
    "        dayup=dayup*(1+factor)\n",
    "print(\"weekdays：{:.2f}\".format(dayup))"
   ]
  },
  {
   "cell_type": "code",
   "execution_count": 6,
   "metadata": {
    "collapsed": false
   },
   "outputs": [
    {
     "name": "stdout",
     "output_type": "stream",
     "text": [
      "weekdays：0.02\n"
     ]
    }
   ],
   "source": [
    "#DayDayUpQ4\n",
    "def dayUP(df):\n",
    "    dayup=1.0\n",
    "    for i in range(365):\n",
    "        if i % 7 in [6,0]:\n",
    "            dayup=dayup*(1-0.01)\n",
    "        else:\n",
    "            dayup=dayup*(1+df)\n",
    "    return dayup\n",
    "factor=0.01\n",
    "while dayUP(factor)<37.78:\n",
    "    factor+=0.001\n",
    "\n",
    "print(\"weekdays：{:.2f}\".format(factor))"
   ]
  },
  {
   "cell_type": "code",
   "execution_count": null,
   "metadata": {
    "collapsed": true
   },
   "outputs": [],
   "source": [
    "#WeekNamePrintV1\n",
    "weekStr=\"星期一二三四五六日\"\n",
    "weekId=eval(input(\"请输入星期数字\"))"
   ]
  },
  {
   "cell_type": "code",
   "execution_count": 10,
   "metadata": {
    "collapsed": false
   },
   "outputs": [
    {
     "name": "stdout",
     "output_type": "stream",
     "text": [
      "-----开始执行咯-----\n",
      "0.000%[->..........]\n",
      "10.000%[*->.........]\n",
      "20.000%[**->........]\n",
      "30.000%[***->.......]\n",
      "40.000%[****->......]\n",
      "50.000%[*****->.....]\n",
      "60.000%[******->....]\n",
      "70.000%[*******->...]\n",
      "80.000%[********->..]\n",
      "90.000%[*********->.]\n",
      "100.000%[**********->]\n",
      "-----结束啦-----\n"
     ]
    }
   ],
   "source": [
    "#TextProBarV1\n",
    "#文本进度条\n",
    "import time\n",
    "scale=10\n",
    "print(\"-----开始执行咯-----\")\n",
    "for i in range(scale+1):\n",
    "    a='*'*i\n",
    "    b='.'*(scale-i)\n",
    "    c=(i/scale)*100\n",
    "    print(\"{:.3f}%[{}->{}]\".format(c,a,b))\n",
    "    time.sleep(0.1)\n",
    "print(\"-----结束啦-----\")"
   ]
  },
  {
   "cell_type": "code",
   "execution_count": 11,
   "metadata": {
    "collapsed": false
   },
   "outputs": [
    {
     "name": "stdout",
     "output_type": "stream",
     "text": [
      "100.000000%"
     ]
    }
   ],
   "source": [
    "#单行动态刷新，关键是\\r，刷新的本质是后打印的字符覆盖之前的字符\n",
    "#不能换行：print()需要被控制\n",
    "#可以回退，打印后光标回退到之前的位置\n",
    "#TextProBarV2\n",
    "import time\n",
    "for i in range(101):\n",
    "    print(\"\\r{:3f}%\".format(i),end=\"\")\n",
    "    time.sleep(0.1)#函数推迟调用线程的运行"
   ]
  },
  {
   "cell_type": "code",
   "execution_count": 14,
   "metadata": {
    "collapsed": false
   },
   "outputs": [
    {
     "name": "stdout",
     "output_type": "stream",
     "text": [
      "-----开始执行咯-----\n",
      "100.000%[******************************->]3.00s\n",
      "------结束啦------\n"
     ]
    }
   ],
   "source": [
    "#TextProBarV3\n",
    "#文本进度条\n",
    "import time\n",
    "scale=30\n",
    "print(\"开始执行咯\".center(scale//2,'-'))\n",
    "start = time.perf_counter()\n",
    "for i in range(scale+1):\n",
    "    a='*'*i\n",
    "    b='.'*(scale-i)\n",
    "    c=(i/scale)*100\n",
    "    dur=time.perf_counter()-start#计时，适用于各类需要统计时间的算法，比较不同算法的时间，统计部分程序运行时间\n",
    "    print(\"\\r{:.3f}%[{}->{}]{:.2f}s\".format(c,a,b,dur),end='')\n",
    "    time.sleep(0.1)\n",
    "print(\"\\n\"+\"结束啦\".center(scale//2,'-'))"
   ]
  },
  {
   "cell_type": "code",
   "execution_count": 15,
   "metadata": {
    "collapsed": false
   },
   "outputs": [
    {
     "name": "stdout",
     "output_type": "stream",
     "text": [
      "32\n",
      "--------1024--------\n"
     ]
    }
   ],
   "source": [
    "#获得用户输入的一个整数N，计算N的平方值；结果采用宽度20字符方式居中输出，空余字符采用减号(-)填充。\n",
    "\n",
    "#如果结果超过20个字符，则以结果宽度为准。\n",
    "N=eval(input())\n",
    "N2=pow(N,2)\n",
    "if len('N2')<20:\n",
    "  print(str(N2).center(20,\"-\")) \n",
    "else:\n",
    "  print(N2)"
   ]
  },
  {
   "cell_type": "code",
   "execution_count": 16,
   "metadata": {
    "collapsed": false
   },
   "outputs": [
    {
     "name": "stdout",
     "output_type": "stream",
     "text": [
      "-6\n",
      "6 -16 -4 -60\n"
     ]
    }
   ],
   "source": [
    "#读入一个整数N，分别计算如下内容：\n",
    "\n",
    "#1. N的绝对值；\n",
    "\n",
    "#2. N与10进行同符号加法、减法和乘法运算，同符号运算指使用N的绝对值与另一个数进行运算，运算结果的绝对值被赋予N相同的符号，其中，0的符号是正号。\n",
    "\n",
    "#将上述4项结果在一行输出，采用空格分隔，输出结果均为整数\n",
    "N=eval(input())\n",
    "N_abs=abs(N)\n",
    "if N >= 0:\n",
    "  sig=1\n",
    "else:\n",
    "  sig =-1\n",
    "N_add=sig*(N_abs+10)\n",
    "N_sub=sig*abs((N_abs-10))\n",
    "N_mul=sig*(N_abs*10)\n",
    "print(N_abs,N_add,N_sub,N_mul)"
   ]
  },
  {
   "cell_type": "markdown",
   "metadata": {},
   "source": [
    "一年365天，以第1天的能力值为基数，记为1.0。\n",
    "\n",
    "当好好学习时，能力值相比前一天提高N‰；当没有学习时，能力值相比前一天下降N‰。\n",
    "\n",
    "每天努力或放任，一年下来的能力值相差多少呢？其中，N的取值范围是0到100，N可以是小数，假设输入符合要求。\n",
    "\n",
    "获得用户输入的N，计算每天努力和每天放任365天后的能力值及能力间比值，其中，能力值保留小数点后2位，能力间比值输出整数，输出结果间采用英文逗号分隔。\n",
    "\n",
    "使用input()获得N。"
   ]
  },
  {
   "cell_type": "code",
   "execution_count": 17,
   "metadata": {
    "collapsed": false,
    "scrolled": true
   },
   "outputs": [
    {
     "ename": "NameError",
     "evalue": "name 'day_distance' is not defined",
     "output_type": "error",
     "traceback": [
      "\u001b[0;31m---------------------------------------------------------------------------\u001b[0m",
      "\u001b[0;31mNameError\u001b[0m                                 Traceback (most recent call last)",
      "\u001b[0;32m<ipython-input-17-63b08b80d9db>\u001b[0m in \u001b[0;36m<module>\u001b[0;34m()\u001b[0m\n\u001b[0;32m----> 1\u001b[0;31m \u001b[0mprint\u001b[0m\u001b[1;33m(\u001b[0m\u001b[1;34m\"%.2f,%.2f,%d\"\u001b[0m\u001b[1;33m%\u001b[0m\u001b[1;33m(\u001b[0m\u001b[0mdayup\u001b[0m\u001b[1;33m,\u001b[0m\u001b[0mdaydown\u001b[0m\u001b[1;33m,\u001b[0m \u001b[0mday_distance\u001b[0m\u001b[1;33m)\u001b[0m\u001b[1;33m)\u001b[0m\u001b[1;33m\u001b[0m\u001b[0m\n\u001b[0m",
      "\u001b[0;31mNameError\u001b[0m: name 'day_distance' is not defined"
     ]
    }
   ],
   "source": [
    "print(\"%.2f,%.2f,%d\"%(dayup,daydown, day_distance))"
   ]
  },
  {
   "cell_type": "code",
   "execution_count": 18,
   "metadata": {
    "collapsed": true
   },
   "outputs": [],
   "source": [
    "#读入一个整数N，N是奇数，输出由星号字符组成的等边三角形，要求：\n",
    "\n",
    "#第1行1个星号，第2行3个星号，第3行5个星号，依次类推，最后一行共N的星号。\n"
   ]
  },
  {
   "cell_type": "markdown",
   "metadata": {},
   "source": [
    "凯撒密码是古罗马凯撒大帝用来对军事情报进行加解密的算法，它采用了替换方法对信息中的每一个英文字符循环替换为字母表序列中该字符后面的第三个字符，即，字母表的对应关系如下：\n",
    "\n",
    "原文：A B C D E F G H I J K L M N O P Q R S T U V W X Y Z\n",
    "\n",
    "密文：D E F G H I J K L M N O P Q R S T U V W X Y Z A B C\n",
    "\n",
    "对于原文字符P，其密文字符C满足如下条件：C=(P+3) mod 26\n",
    "\n",
    "上述是凯撒密码的加密方法，解密方法反之，即：P=(C-3) mod 26\n",
    "\n",
    "假设用户可能使用的输入仅包含小写字母a~z和空格，请编写一个程序，对输入字符串进行凯撒密码加密，直接输出结果，其中空格不用进行加密处理。使用input()获得输入。"
   ]
  },
  {
   "cell_type": "code",
   "execution_count": null,
   "metadata": {
    "collapsed": true
   },
   "outputs": [],
   "source": []
  }
 ],
 "metadata": {
  "kernelspec": {
   "display_name": "Python [conda root]",
   "language": "python",
   "name": "conda-root-py"
  },
  "language_info": {
   "codemirror_mode": {
    "name": "ipython",
    "version": 3
   },
   "file_extension": ".py",
   "mimetype": "text/x-python",
   "name": "python",
   "nbconvert_exporter": "python",
   "pygments_lexer": "ipython3",
   "version": "3.5.2"
  }
 },
 "nbformat": 4,
 "nbformat_minor": 1
}
